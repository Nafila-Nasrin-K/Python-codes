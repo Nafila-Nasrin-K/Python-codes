{
  "nbformat": 4,
  "nbformat_minor": 0,
  "metadata": {
    "colab": {
      "provenance": [],
      "authorship_tag": "ABX9TyM5HqCZ2rvwmJSyK4G78X4Z",
      "include_colab_link": true
    },
    "kernelspec": {
      "name": "python3",
      "display_name": "Python 3"
    },
    "language_info": {
      "name": "python"
    }
  },
  "cells": [
    {
      "cell_type": "markdown",
      "metadata": {
        "id": "view-in-github",
        "colab_type": "text"
      },
      "source": [
        "<a href=\"https://colab.research.google.com/github/Nafila-Nasrin-K/Python-codes/blob/main/Python.ipynb\" target=\"_parent\"><img src=\"https://colab.research.google.com/assets/colab-badge.svg\" alt=\"Open In Colab\"/></a>"
      ]
    },
    {
      "cell_type": "code",
      "execution_count": 2,
      "metadata": {
        "colab": {
          "base_uri": "https://localhost:8080/"
        },
        "id": "m9T52xCp53Ob",
        "outputId": "5aab3d35-016a-4d63-d766-73a8ee589b43"
      },
      "outputs": [
        {
          "output_type": "stream",
          "name": "stdout",
          "text": [
            "Grading System\n",
            "Enter marks for subject 1: 23\n",
            "Enter marks for subject 2: 67\n",
            "Enter marks for subject 3: 89\n",
            "Enter marks for subject 4: 76\n",
            "Enter marks for subject 5: 76\n",
            "Average Percentage: 66.2\n",
            "Grade:  C\n"
          ]
        }
      ],
      "source": [
        " print(\"Grading System\")\n",
        " mark1= int(input(\"Enter marks for subject 1: \"))\n",
        " mark2 =int(input(\"Enter marks for subject 2: \"))\n",
        " mark3 =int(input(\"Enter marks for subject 3: \"))\n",
        " mark4 =int(input(\"Enter marks for subject 4: \"))\n",
        " mark5 =int(input(\"Enter marks for subject 5: \"))\n",
        " total =mark1+mark2+mark3+mark4+mark5\n",
        " average=total/5\n",
        " if average>= 90:\n",
        "    grade =\"A+\"\n",
        " elif average>=80:\n",
        " \tgrade =\"A\"\n",
        " elif average>=70:\n",
        " \tgrade =\"B\"\n",
        " elif average>=60:\n",
        " \tgrade=\"C\"\n",
        " else:\n",
        " \tgrade =\"Fail\"\n",
        " print(\"Average Percentage:\",average)\n",
        " print(\"Grade: \",grade)\n"
      ]
    },
    {
      "cell_type": "code",
      "source": [
        "item1= int(input(\"Enter the price of item 1: \"))\n",
        "item2 =int(input(\"Enter the price of item 2: \"))\n",
        "item3 =int(input(\"Enter the price of item 3: \"))\n",
        "total_price= item1+ item2+item3\n",
        "print(\"Total Price:\", total_price)\n",
        "if total_price > 500:\n",
        "  discount=total_price* 0.10\n",
        "  after_discount=total_price-discount\n",
        "  print(\"Discount Applied:10%\")\n",
        "  print(\"Final Amount after Discount:\", after_discount)\n",
        "else:\n",
        "  print(\"Price is less than 500. No discount applied.\")\n"
      ],
      "metadata": {
        "colab": {
          "base_uri": "https://localhost:8080/"
        },
        "id": "bSY3YrR__KuB",
        "outputId": "65dba1fc-703b-4ca8-ab11-50d0ff17b852"
      },
      "execution_count": 7,
      "outputs": [
        {
          "output_type": "stream",
          "name": "stdout",
          "text": [
            "Enter the price of item 1: 123\n",
            "Enter the price of item 2: 456\n",
            "Enter the price of item 3: 78\n",
            "Total Price: 657\n",
            "Discount Applied:10%\n",
            "Final Amount after Discount: 591.3\n"
          ]
        }
      ]
    },
    {
      "cell_type": "code",
      "source": [
        "year=int(input(\"Enter a year: \"))\n",
        "if(year % 4 ==0 and year % 100 !=0) or  (year % 400 == 0):\n",
        "\tprint(year, \"is a leap year .\" )\n",
        "else:\n",
        "\tprint(year,\"is not a leap year .\")\n"
      ],
      "metadata": {
        "colab": {
          "base_uri": "https://localhost:8080/"
        },
        "id": "Y5W2mVQ2BPej",
        "outputId": "d74bb88b-572a-4fb4-a0c1-0097c429b3c9"
      },
      "execution_count": 11,
      "outputs": [
        {
          "output_type": "stream",
          "name": "stdout",
          "text": [
            "Enter a year: 2004\n",
            "2004 is a leap year .\n"
          ]
        }
      ]
    },
    {
      "cell_type": "code",
      "source": [
        "n = int(input(\"Enter the number of terms for the Fibonacci series: \"))\n",
        "a, b = 0, 1\n",
        "if n <= 0:\n",
        "    print(\"Please enter a positive integer.\")\n",
        "else:\n",
        "    print(\"Fibonacci Series up to\", n, \"terms:\")\n",
        "    for i in range(0, n):\n",
        "        print(a, end=\" \")\n",
        "        c = a + b\n",
        "        a = b\n",
        "        b = c\n"
      ],
      "metadata": {
        "colab": {
          "base_uri": "https://localhost:8080/"
        },
        "id": "NQbhdtGuBpfc",
        "outputId": "4f3e26c3-8da1-42c6-806d-11251bdc1c44"
      },
      "execution_count": 12,
      "outputs": [
        {
          "output_type": "stream",
          "name": "stdout",
          "text": [
            "Enter the number of terms for the Fibonacci series: 8\n",
            "Fibonacci Series up to 8 terms:\n",
            "0 1 1 2 3 5 8 13 "
          ]
        }
      ]
    }
  ]
}