{
  "nbformat": 4,
  "nbformat_minor": 0,
  "metadata": {
    "colab": {
      "provenance": [],
      "authorship_tag": "ABX9TyMvxSbTj4ONYJL9PqmLWLuR",
      "include_colab_link": true
    },
    "kernelspec": {
      "name": "python3",
      "display_name": "Python 3"
    },
    "language_info": {
      "name": "python"
    }
  },
  "cells": [
    {
      "cell_type": "markdown",
      "metadata": {
        "id": "view-in-github",
        "colab_type": "text"
      },
      "source": [
        "<a href=\"https://colab.research.google.com/github/Nafila-Nasrin-K/Python-codes/blob/main/StudentGradingSystem.ipynb\" target=\"_parent\"><img src=\"https://colab.research.google.com/assets/colab-badge.svg\" alt=\"Open In Colab\"/></a>"
      ]
    },
    {
      "cell_type": "code",
      "execution_count": 2,
      "metadata": {
        "colab": {
          "base_uri": "https://localhost:8080/"
        },
        "id": "m9T52xCp53Ob",
        "outputId": "5aab3d35-016a-4d63-d766-73a8ee589b43"
      },
      "outputs": [
        {
          "output_type": "stream",
          "name": "stdout",
          "text": [
            "Grading System\n",
            "Enter marks for subject 1: 23\n",
            "Enter marks for subject 2: 67\n",
            "Enter marks for subject 3: 89\n",
            "Enter marks for subject 4: 76\n",
            "Enter marks for subject 5: 76\n",
            "Average Percentage: 66.2\n",
            "Grade:  C\n"
          ]
        }
      ],
      "source": [
        " print(\"Grading System\")\n",
        " mark1= int(input(\"Enter marks for subject 1: \"))\n",
        " mark2 =int(input(\"Enter marks for subject 2: \"))\n",
        " mark3 =int(input(\"Enter marks for subject 3: \"))\n",
        " mark4 =int(input(\"Enter marks for subject 4: \"))\n",
        " mark5 =int(input(\"Enter marks for subject 5: \"))\n",
        " total =mark1+mark2+mark3+mark4+mark5\n",
        " average=total/5\n",
        " if average>= 90:\n",
        "    grade =\"A+\"\n",
        " elif average>=80:\n",
        " \tgrade =\"A\"\n",
        " elif average>=70:\n",
        " \tgrade =\"B\"\n",
        " elif average>=60:\n",
        " \tgrade=\"C\"\n",
        " else:\n",
        " \tgrade =\"Fail\"\n",
        " print(\"Average Percentage:\",average)\n",
        " print(\"Grade: \",grade)\n"
      ]
    }
  ]
}