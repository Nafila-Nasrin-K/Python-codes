{
  "nbformat": 4,
  "nbformat_minor": 0,
  "metadata": {
    "colab": {
      "provenance": [],
      "authorship_tag": "ABX9TyPS2FUYuVVUwh9MSOV8pnS9",
      "include_colab_link": true
    },
    "kernelspec": {
      "name": "python3",
      "display_name": "Python 3"
    },
    "language_info": {
      "name": "python"
    }
  },
  "cells": [
    {
      "cell_type": "markdown",
      "metadata": {
        "id": "view-in-github",
        "colab_type": "text"
      },
      "source": [
        "<a href=\"https://colab.research.google.com/github/Nafila-Nasrin-K/Python-codes/blob/main/Python%20Assignment%205.ipynb\" target=\"_parent\"><img src=\"https://colab.research.google.com/assets/colab-badge.svg\" alt=\"Open In Colab\"/></a>"
      ]
    },
    {
      "cell_type": "code",
      "execution_count": 2,
      "metadata": {
        "colab": {
          "base_uri": "https://localhost:8080/"
        },
        "id": "RD8_WaCBDbNS",
        "outputId": "d4ca13e1-e66c-4c6c-e751-3432f038431c"
      },
      "outputs": [
        {
          "output_type": "stream",
          "name": "stdout",
          "text": [
            "\n",
            "1. Add Task  2. Remove Task  3. View Tasks  4. Exit\n",
            "Choose: 1\n",
            "Enter task: Online Test\n",
            "Task added.\n",
            "\n",
            "1. Add Task  2. Remove Task  3. View Tasks  4. Exit\n",
            "Choose: 1\n",
            "Enter task: Self study-python basics\n",
            "Task added.\n",
            "\n",
            "1. Add Task  2. Remove Task  3. View Tasks  4. Exit\n",
            "Choose: 3\n",
            "\n",
            "Tasks:\n",
            "1. Online Test\n",
            "2. Self study-python basics\n",
            "\n",
            "1. Add Task  2. Remove Task  3. View Tasks  4. Exit\n",
            "Choose: 2\n",
            "\n",
            "Tasks:\n",
            "1. Online Test\n",
            "2. Self study-python basics\n",
            "Enter task number to remove: 1\n",
            "Task 'Online Test' removed.\n",
            "\n",
            "1. Add Task  2. Remove Task  3. View Tasks  4. Exit\n",
            "Choose: 3\n",
            "\n",
            "Tasks:\n",
            "1. Self study-python basics\n",
            "\n",
            "1. Add Task  2. Remove Task  3. View Tasks  4. Exit\n",
            "Choose: 4\n",
            "Goodbye!\n"
          ]
        }
      ],
      "source": [
        "def display_tasks(tasks):\n",
        "    if tasks:\n",
        "        print(\"\\nTasks:\")\n",
        "        for i, task in enumerate(tasks, 1):\n",
        "            print(f\"{i}. {task}\")\n",
        "    else:\n",
        "        print(\"No tasks available.\")\n",
        "\n",
        "tasks = []\n",
        "while True:\n",
        "    choice = input(\"\\n1. Add Task  2. Remove Task  3. View Tasks  4. Exit\\nChoose: \")\n",
        "    if choice == \"1\":\n",
        "        task = input(\"Enter task: \").strip()\n",
        "        if task and task not in tasks:\n",
        "            tasks.append(task)\n",
        "            print(\"Task added.\")\n",
        "        else:\n",
        "            print(\"Invalid or Duplicate Task.\")\n",
        "\n",
        "    elif choice == \"2\":\n",
        "        display_tasks(tasks)\n",
        "        try:\n",
        "            index = int(input(\"Enter task number to remove: \")) - 1\n",
        "            print(f\"Task '{tasks.pop(index)}' removed.\")\n",
        "        except (ValueError, IndexError):\n",
        "            print(\"Invalid task number.\")\n",
        "\n",
        "    elif choice == \"3\":\n",
        "        display_tasks(tasks)\n",
        "\n",
        "    elif choice == \"4\":\n",
        "        print(\"Goodbye!\")\n",
        "        break\n",
        "\n",
        "    else:\n",
        "        print(\"Invalid choice. Please try again.\")\n"
      ]
    }
  ]
}